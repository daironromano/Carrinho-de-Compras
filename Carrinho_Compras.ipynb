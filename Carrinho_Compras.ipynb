{
 "cells": [
  {
   "cell_type": "code",
   "execution_count": 31,
   "metadata": {},
   "outputs": [
    {
     "name": "stdout",
     "output_type": "stream",
     "text": [
      "Meu Carrinho: \n",
      " [{'nome': 'Camisa', 'quantidade': 3, 'preco': 20.0}, {'nome': 'Shorts', 'quantidade': 4, 'preco': 40.0}, {'nome': 'chapeu', 'quantidade': 4, 'preco': 10.0}]\n"
     ]
    }
   ],
   "source": [
    "## Carrinho de Compras 🛒\n",
    "\n",
    "carrinho = [{\"nome\": \"Camisa\", \"quantidade\": 3, \"preco\": 20.00},\n",
    "            {\"nome\": \"Shorts\", \"quantidade\": 4, \"preco\": 40.00}, \n",
    "            {\"nome\": \"chapeu\", \"quantidade\": 4, \"preco\": 10.00}]\n",
    "print(f\"Meu Carrinho: \\n {carrinho}\")\n"
   ]
  },
  {
   "cell_type": "code",
   "execution_count": 34,
   "metadata": {},
   "outputs": [
    {
     "name": "stdout",
     "output_type": "stream",
     "text": [
      "Carrinho antigo:\n",
      " [{'nome': 'Camisa', 'quantidade': 3, 'preco': 20.0}, {'nome': 'Shorts', 'quantidade': 4, 'preco': 40.0}, {'nome': 'chapeu', 'quantidade': 4, 'preco': 10.0}]\n",
      "Carrinho atualizado:\n",
      " [{'nome': 'Shorts', 'quantidade': 4, 'preco': 40.0}, {'nome': 'chapeu', 'quantidade': 4, 'preco': 10.0}]\n",
      "Item removido:\n",
      " {'nome': 'Camisa', 'quantidade': 3, 'preco': 20.0}\n"
     ]
    }
   ],
   "source": [
    "## Remover o Primeiro Item 🗑️\n",
    "\n",
    "carrinho = [{\"nome\": \"Camisa\", \"quantidade\": 3, \"Preço\": 20.00},\n",
    "            {\"nome\": \"Shorts\", \"quantidade\": 4, \"Preço\": 40.00}, \n",
    "            {\"nome\": \"Chapeu\", \"quantidade\": 4, \"Preço\": 10.00}]\n",
    "print (f\"Carrinho antigo:\\n {carrinho}\")\n",
    "\n",
    "#Removendo o primeiro item\n",
    "item_removido = carrinho.pop(0)\n",
    "\n",
    "#Exibindo carrinho atualizado\n",
    "print(f\"Carrinho atualizado:\\n {carrinho}\")\n",
    "\n",
    "#Item removido\n",
    "print(f\"Item removido:\\n {item_removido}\")"
   ]
  },
  {
   "cell_type": "code",
   "execution_count": 36,
   "metadata": {},
   "outputs": [
    {
     "name": "stdout",
     "output_type": "stream",
     "text": [
      "Carrinho antigo:\n",
      " [{'nome': 'Camisa', 'Quantidade': 3, 'Preço': 20.0}, {'nome': 'Shorts', 'Quantidade': 4, 'Preço': 40.0}, {'nome': 'Chapeu', 'Quantidade': 4, 'Preço': 10.0}]\n",
      "Carrinho atualizado:\n",
      " [{'nome': 'Camisa', 'Quantidade': 3, 'Preço': 20.0}, {'nome': 'Shorts', 'Quantidade': 4, 'Preço': 40.0}, {'nome': 'Chapeu', 'Quantidade': 4, 'Preço': 10.0}, {'nome': 'Boneco do Naruto', 'Quantidade': 10, 'Preço': 50.0}]\n"
     ]
    }
   ],
   "source": [
    "## Adicionar um Novo Item 🛍️\n",
    "\n",
    "carrinho = [{\"nome\": \"Camisa\", \"Quantidade\": 3, \"Preço\": 20.00},\n",
    "            {\"nome\": \"Shorts\", \"Quantidade\": 4, \"Preço\": 40.00}, \n",
    "            {\"nome\": \"Chapeu\", \"Quantidade\": 4, \"Preço\": 10.00}]\n",
    "print (f\"Carrinho antigo:\\n {carrinho}\")\n",
    "\n",
    "#Novo item\n",
    "novo_item = {\"nome\": \"Boneco do Naruto\", \"Quantidade\": 10, \"Preço\": 50.00}\n",
    "\n",
    "#Adicionando o novo item\n",
    "carrinho.append(novo_item)\n",
    "\n",
    "#Carrinho atualizado\n",
    "print(f\"Carrinho atualizado:\\n {carrinho}\")"
   ]
  },
  {
   "cell_type": "code",
   "execution_count": 6,
   "metadata": {},
   "outputs": [
    {
     "name": "stdout",
     "output_type": "stream",
     "text": [
      "Valor 1: 61.35\n",
      "Valor 2: 162.24\n",
      "Valor 3: 42.72\n",
      "Total: R$ 266.31\n"
     ]
    }
   ],
   "source": [
    "## Checkout 🧾\n",
    "\n",
    "carrinho = [{\"nome\": \"Camisa\", \"Quantidade\": 3, \"Preço\": 20.45},\n",
    "            {\"nome\": \"Shorts\", \"Quantidade\": 4, \"Preço\": 40.56}, \n",
    "            {\"nome\": \"Chapeu\", \"Quantidade\": 4, \"Preço\": 10.68}]\n",
    "#Acessando valores e calculando preços\n",
    "\n",
    "qnt_1 = carrinho[0][\"Quantidade\"]\n",
    "prc_1 = carrinho[0][\"Preço\"]\n",
    "prc_total1 = round(qnt_1  * prc_1, 2)\n",
    "print(f\"Valor 1: {prc_total1}\")\n",
    "\n",
    "qnt_2 = carrinho[1][\"Quantidade\"]\n",
    "prc_2 = carrinho[1][\"Preço\"]\n",
    "prc_total2 = round(qnt_2 * prc_2, 2)\n",
    "print(f\"Valor 2: {prc_total2}\")\n",
    "\n",
    "qnt_3 = carrinho[2][\"Quantidade\"]\n",
    "prc_3 = carrinho[2][\"Preço\"]\n",
    "prc_total3 = round(qnt_3 * prc_3, 2)\n",
    "print(f\"Valor 3: {prc_total3}\")\n",
    "\n",
    "#Somando e exibindo preços\n",
    "Vtotal = round(prc_total1 + prc_total2 + prc_total3, 2)\n",
    "print(f\"Total: R$ {Vtotal}\")"
   ]
  }
 ],
 "metadata": {
  "kernelspec": {
   "display_name": "base",
   "language": "python",
   "name": "python3"
  },
  "language_info": {
   "codemirror_mode": {
    "name": "ipython",
    "version": 3
   },
   "file_extension": ".py",
   "mimetype": "text/x-python",
   "name": "python",
   "nbconvert_exporter": "python",
   "pygments_lexer": "ipython3",
   "version": "3.12.7"
  }
 },
 "nbformat": 4,
 "nbformat_minor": 2
}
